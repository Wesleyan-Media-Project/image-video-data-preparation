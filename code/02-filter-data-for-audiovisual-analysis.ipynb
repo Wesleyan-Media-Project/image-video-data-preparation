{
 "cells": [
  {
   "cell_type": "code",
   "execution_count": 1,
   "id": "f2eee6ee",
   "metadata": {},
   "outputs": [],
   "source": [
    "import os\n",
    "import pandas as pd"
   ]
  },
  {
   "cell_type": "markdown",
   "id": "b3e5b65a",
   "metadata": {},
   "source": [
    "## Load data saved from step 1 (notebook 01-get-checksum-for-deduplication)"
   ]
  },
  {
   "cell_type": "code",
   "execution_count": null,
   "id": "8de93375",
   "metadata": {},
   "outputs": [],
   "source": [
    "# below are output files saved from the first notebook (01-get-checksum-for-deduplication)\n",
    "video_info_path = 'my-video-info-path.csv' \n",
    "image_info_path = 'my-image-info-path.csv'"
   ]
  },
  {
   "cell_type": "code",
   "execution_count": null,
   "id": "98d62885",
   "metadata": {},
   "outputs": [],
   "source": [
    "video_info_table = pd.read_csv(video_info_path)\n",
    "image_info_table = pd.read_csv(video_info_path)"
   ]
  },
  {
   "cell_type": "markdown",
   "id": "de7a1565",
   "metadata": {},
   "source": [
    "## Deduplicate based on checksum information for videos"
   ]
  },
  {
   "cell_type": "code",
   "execution_count": null,
   "id": "ce18b343",
   "metadata": {},
   "outputs": [],
   "source": [
    "video_info_table = video_info_table.drop_duplicates(subset=['checksum'], keep='last')"
   ]
  },
  {
   "cell_type": "markdown",
   "id": "00a0cced",
   "metadata": {},
   "source": [
    "## Deduplicate and additional preprocessing steps for image data"
   ]
  },
  {
   "cell_type": "code",
   "execution_count": null,
   "id": "43c20601",
   "metadata": {},
   "outputs": [],
   "source": [
    "'''\n",
    "1. Deduplicate based on filenames AND checksum first\n",
    "'''\n",
    "image_info_table = image_info_table.drop_duplicates(subset=['filename', 'checksum'], keep='last')"
   ]
  },
  {
   "cell_type": "code",
   "execution_count": null,
   "id": "2413d46b",
   "metadata": {},
   "outputs": [],
   "source": [
    "'''\n",
    "2. Because filenames are often composed of an ad id, followed by an underline and then filetype, \n",
    "there are many files with the same prefix (ad id) and different suffixes.  \n",
    "We want to extract the ad ids from these file names: \n",
    "'''\n",
    "image_info_table['ad_id'] = image_info_table['filename'].str.rsplit(\"_\", n=2, expand=True).iloc[:, 0]"
   ]
  },
  {
   "cell_type": "code",
   "execution_count": null,
   "id": "bad900f4",
   "metadata": {},
   "outputs": [],
   "source": [
    "'''\n",
    "3. check filetypes through filenames and exclude screenshot images \n",
    "(filenames with 'screenshot.png' after ad id and '_')\n",
    "'''\n",
    "image_info_table['filename'].str.rsplit(\"_\", n=2, expand=True).iloc[:, 1].value_counts()"
   ]
  },
  {
   "cell_type": "code",
   "execution_count": null,
   "id": "9897cb3b",
   "metadata": {},
   "outputs": [],
   "source": [
    "'''\n",
    "4. After identifying the screentshot filetypes, exclude them from the sample to be analyzed, \n",
    "and obtain an updated image information table \n",
    "''' "
   ]
  },
  {
   "cell_type": "code",
   "execution_count": null,
   "id": "806fbca4",
   "metadata": {},
   "outputs": [],
   "source": [
    "'''\n",
    "5. Deduplicate once again based on checksum alone (after dropping screenshot filetypes)\n",
    "'''\n",
    "updated_image_info_table.drop_duplicates(subset=['checksum'], keep='last')"
   ]
  },
  {
   "cell_type": "markdown",
   "id": "1b6af241",
   "metadata": {},
   "source": [
    "### Notes \n",
    "\n",
    "For facebook image data: \n",
    "The same ad_id often returns multiple images. Some are the content of posts (political advertising content we are interested in), some are profile pictures of posters or other thumnail images irrelevant to the political ad content. \n",
    "\n",
    "How to filter for relevant image data depends on users' use cases and judgment. To filter for only content of the posts, remove image files with significantly small filesizes compared to images under the same ad_id. "
   ]
  },
  {
   "cell_type": "code",
   "execution_count": null,
   "id": "4a3fd9ba",
   "metadata": {},
   "outputs": [],
   "source": []
  }
 ],
 "metadata": {
  "kernelspec": {
   "display_name": "Python 3 (ipykernel)",
   "language": "python",
   "name": "python3"
  },
  "language_info": {
   "codemirror_mode": {
    "name": "ipython",
    "version": 3
   },
   "file_extension": ".py",
   "mimetype": "text/x-python",
   "name": "python",
   "nbconvert_exporter": "python",
   "pygments_lexer": "ipython3",
   "version": "3.11.4"
  }
 },
 "nbformat": 4,
 "nbformat_minor": 5
}
