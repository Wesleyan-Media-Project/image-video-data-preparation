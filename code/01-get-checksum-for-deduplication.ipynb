{
 "cells": [
  {
   "cell_type": "markdown",
   "id": "0cd073eb",
   "metadata": {},
   "source": [
    "### This notebook computes and saves file information for pre-processing\n",
    "Two objectives for this notebook: \n",
    "+ 1. Get checksum information of every video and image file for deduplication\n",
    "- 2. Get filesize information of image data to filter for images that display ads content\n",
    "\n",
    "\n",
    "Save the information into video and image info tables respectively"
   ]
  },
  {
   "cell_type": "code",
   "execution_count": 1,
   "id": "728ec007",
   "metadata": {},
   "outputs": [],
   "source": [
    "import os\n",
    "import pandas as pd\n",
    "import hashlib"
   ]
  },
  {
   "cell_type": "code",
   "execution_count": 5,
   "id": "9d0b3dc9",
   "metadata": {},
   "outputs": [],
   "source": [
    "video_source_path = 'my-video-dir'\n",
    "image_source_path = 'my-image-dir'"
   ]
  },
  {
   "cell_type": "markdown",
   "id": "f75aa6a3",
   "metadata": {},
   "source": [
    "### Function to collect filepaths of advertising media from local directory "
   ]
  },
  {
   "cell_type": "code",
   "execution_count": 29,
   "id": "b78ff3a6",
   "metadata": {},
   "outputs": [],
   "source": [
    "def search_files(directory, filetype=None):\n",
    "    '''\n",
    "    Take a root directory and target filetype (e.g. '.mp4', '.png')\n",
    "    \n",
    "    Search recursively in the directory and return a list of files under the directory.  \n",
    "    '''\n",
    "    filepaths = []\n",
    "    for root, dirs, files in os.walk(directory):\n",
    "        for file in files:\n",
    "            if filetype:\n",
    "                if file.endswith(filetype):\n",
    "                    filepaths.append(os.path.join(root,file))\n",
    "            else:\n",
    "                filepaths.append(os.path.join(root,file))\n",
    "    \n",
    "    return filepaths"
   ]
  },
  {
   "cell_type": "markdown",
   "id": "b45d6721",
   "metadata": {},
   "source": [
    "### Functions to get checksum information of media files to prepare for deduplication"
   ]
  },
  {
   "cell_type": "code",
   "execution_count": 15,
   "id": "262da632",
   "metadata": {},
   "outputs": [],
   "source": [
    "# Get the MD5 checksum value (message-digest algorithm that produces the message digest of inputs) of a file\n",
    "# Caveat: MD5's use as cryptographic checksum runs risk of encryption collision https://www.techtarget.com/searchsecurity/definition/MD5\n",
    "\n",
    "# Code reference: \n",
    "# 1. https://github.com/thorrak/brewflasher/blob/master/fhash.py \n",
    "# 2. https://stackoverflow.com/questions/3431825/generating-an-md5-checksum-of-a-file\n",
    "\n",
    "def file_as_blockiter(afile, blocksize=65536):\n",
    "    with afile:\n",
    "        block = afile.read(blocksize)\n",
    "        while len(block) > 0:\n",
    "            yield block\n",
    "            block = afile.read(blocksize)\n",
    "\n",
    "def hash_bytestr_iter(bytesiter, hasher, ashexstr=True):\n",
    "    for block in bytesiter:\n",
    "        hasher.update(block)\n",
    "    return hasher.hexdigest() if ashexstr else hasher.digest()\n",
    "\n",
    "def checksum_of_file(filepath, blocksize=65536, ashexstr=True):\n",
    "    '''\n",
    "    Take the path of a file path and return the text sha256 hash of the file \n",
    "    '''\n",
    "    with open(filepath, 'rb') as f:\n",
    "        checksum = hash_bytestr_iter(file_as_blockiter(f, blocksize=blocksize), hashlib.sha256(), ashexstr=ashexstr)\n",
    "    return checksum\n"
   ]
  },
  {
   "cell_type": "markdown",
   "id": "9a096efa",
   "metadata": {},
   "source": [
    "## Create video information table\n",
    "Get checksum info (sha256 hash value in text string) for every video file"
   ]
  },
  {
   "cell_type": "code",
   "execution_count": null,
   "id": "7173e8d4",
   "metadata": {},
   "outputs": [],
   "source": [
    "# Get video paths\n",
    "video_filepaths = search_files(video_source_path, '.mp4')"
   ]
  },
  {
   "cell_type": "code",
   "execution_count": 38,
   "id": "441361a5",
   "metadata": {},
   "outputs": [],
   "source": [
    "# Get video checksum values\n",
    "video_checksum = [checksum_of_file(path) for path in video_filepaths]"
   ]
  },
  {
   "cell_type": "code",
   "execution_count": 41,
   "id": "24b55c83",
   "metadata": {},
   "outputs": [],
   "source": [
    "# Create table\n",
    "video_info_table = pd.DataFrame({\n",
    "    'filepath': video_filepaths,\n",
    "    'filename': [os.path.basename(path) for path in video_filepaths], # this is not necessary since we have filepath\n",
    "    'checksum': video_checksum,\n",
    "})"
   ]
  },
  {
   "cell_type": "code",
   "execution_count": 43,
   "id": "aac67230",
   "metadata": {},
   "outputs": [
    {
     "data": {
      "text/html": [
       "<div>\n",
       "<style scoped>\n",
       "    .dataframe tbody tr th:only-of-type {\n",
       "        vertical-align: middle;\n",
       "    }\n",
       "\n",
       "    .dataframe tbody tr th {\n",
       "        vertical-align: top;\n",
       "    }\n",
       "\n",
       "    .dataframe thead th {\n",
       "        text-align: right;\n",
       "    }\n",
       "</style>\n",
       "<table border=\"1\" class=\"dataframe\">\n",
       "  <thead>\n",
       "    <tr style=\"text-align: right;\">\n",
       "      <th></th>\n",
       "      <th>filepath</th>\n",
       "      <th>filename</th>\n",
       "      <th>checksum</th>\n",
       "    </tr>\n",
       "  </thead>\n",
       "  <tbody>\n",
       "    <tr>\n",
       "      <th>0</th>\n",
       "      <td>/data/1/wesmediafowler/projects/AdMedia/Google...</td>\n",
       "      <td>nIAa2wx0y2Q.mp4</td>\n",
       "      <td>3eb256475d44d124d8d671b15460066e767a87efaea137...</td>\n",
       "    </tr>\n",
       "    <tr>\n",
       "      <th>1</th>\n",
       "      <td>/data/1/wesmediafowler/projects/AdMedia/Google...</td>\n",
       "      <td>ZL_4kcX7kIM.mp4</td>\n",
       "      <td>16270b71732f94fd4a9bc2169f76cf94010d4e0bacbe1d...</td>\n",
       "    </tr>\n",
       "    <tr>\n",
       "      <th>2</th>\n",
       "      <td>/data/1/wesmediafowler/projects/AdMedia/Google...</td>\n",
       "      <td>QDt2eixQ-7E.mp4</td>\n",
       "      <td>2f5617ad11a6c8900a106261d9e56d5eb34c750c159312...</td>\n",
       "    </tr>\n",
       "    <tr>\n",
       "      <th>3</th>\n",
       "      <td>/data/1/wesmediafowler/projects/AdMedia/Google...</td>\n",
       "      <td>wAE3Adxg8z4.mp4</td>\n",
       "      <td>bc61eec68d979c23eacdee58c5df66a915c669d93283e8...</td>\n",
       "    </tr>\n",
       "    <tr>\n",
       "      <th>4</th>\n",
       "      <td>/data/1/wesmediafowler/projects/AdMedia/Google...</td>\n",
       "      <td>31E4r62s34c.mp4</td>\n",
       "      <td>d34b9f98fd5a1084181969b3ee61ebcd9f40bc79b2593f...</td>\n",
       "    </tr>\n",
       "  </tbody>\n",
       "</table>\n",
       "</div>"
      ],
      "text/plain": [
       "                                            filepath         filename  \\\n",
       "0  /data/1/wesmediafowler/projects/AdMedia/Google...  nIAa2wx0y2Q.mp4   \n",
       "1  /data/1/wesmediafowler/projects/AdMedia/Google...  ZL_4kcX7kIM.mp4   \n",
       "2  /data/1/wesmediafowler/projects/AdMedia/Google...  QDt2eixQ-7E.mp4   \n",
       "3  /data/1/wesmediafowler/projects/AdMedia/Google...  wAE3Adxg8z4.mp4   \n",
       "4  /data/1/wesmediafowler/projects/AdMedia/Google...  31E4r62s34c.mp4   \n",
       "\n",
       "                                            checksum  \n",
       "0  3eb256475d44d124d8d671b15460066e767a87efaea137...  \n",
       "1  16270b71732f94fd4a9bc2169f76cf94010d4e0bacbe1d...  \n",
       "2  2f5617ad11a6c8900a106261d9e56d5eb34c750c159312...  \n",
       "3  bc61eec68d979c23eacdee58c5df66a915c669d93283e8...  \n",
       "4  d34b9f98fd5a1084181969b3ee61ebcd9f40bc79b2593f...  "
      ]
     },
     "execution_count": 43,
     "metadata": {},
     "output_type": "execute_result"
    }
   ],
   "source": [
    "# Preview table\n",
    "video_info_table.head()"
   ]
  },
  {
   "cell_type": "code",
   "execution_count": null,
   "id": "84f88769",
   "metadata": {},
   "outputs": [],
   "source": [
    "# Save table\n",
    "outfile = 'outfile.csv' # google2022_video_info.csv for Google 2022 video ad data\n",
    "video_info_table.to_csv(f'../output/{outfile}', index=False)"
   ]
  },
  {
   "cell_type": "markdown",
   "id": "db587f39",
   "metadata": {},
   "source": [
    "## Create image file information table\n",
    "\n",
    "Get MD5 checksum information (sha256 hash value in text string) and file size for every image file"
   ]
  },
  {
   "cell_type": "code",
   "execution_count": null,
   "id": "4f1b40ff",
   "metadata": {},
   "outputs": [],
   "source": [
    "# Get image file paths\n",
    "image_filepaths = search_files(image_source_path)"
   ]
  },
  {
   "cell_type": "code",
   "execution_count": 46,
   "id": "42d7e1cd",
   "metadata": {},
   "outputs": [],
   "source": [
    "# Get image checksum info\n",
    "image_checksum = [checksum_of_file(path) for path in image_filepaths]"
   ]
  },
  {
   "cell_type": "code",
   "execution_count": 47,
   "id": "d3b082f2",
   "metadata": {},
   "outputs": [],
   "source": [
    "# Get image filesize info\n",
    "image_filesize = [os.path.getsize(path) for path in image_filepaths]"
   ]
  },
  {
   "cell_type": "code",
   "execution_count": 50,
   "id": "73e5b45a",
   "metadata": {},
   "outputs": [],
   "source": [
    "# Create table\n",
    "\n",
    "image_info_table = pd.DataFrame({\n",
    "    \"filepath\": image_filepaths,\n",
    "    \"filename\": [os.path.basename(path) for path in image_filepaths], # not necessary\n",
    "    \"checksum\": image_checksum,\n",
    "    \"filesize\": image_filesize\n",
    "})\n"
   ]
  },
  {
   "cell_type": "code",
   "execution_count": 51,
   "id": "65e25983",
   "metadata": {},
   "outputs": [
    {
     "data": {
      "text/html": [
       "<div>\n",
       "<style scoped>\n",
       "    .dataframe tbody tr th:only-of-type {\n",
       "        vertical-align: middle;\n",
       "    }\n",
       "\n",
       "    .dataframe tbody tr th {\n",
       "        vertical-align: top;\n",
       "    }\n",
       "\n",
       "    .dataframe thead th {\n",
       "        text-align: right;\n",
       "    }\n",
       "</style>\n",
       "<table border=\"1\" class=\"dataframe\">\n",
       "  <thead>\n",
       "    <tr style=\"text-align: right;\">\n",
       "      <th></th>\n",
       "      <th>filepath</th>\n",
       "      <th>filename</th>\n",
       "      <th>checksum</th>\n",
       "      <th>filesize</th>\n",
       "    </tr>\n",
       "  </thead>\n",
       "  <tbody>\n",
       "    <tr>\n",
       "      <th>0</th>\n",
       "      <td>/data/1/wesmediafowler/projects/AdMedia/Google...</td>\n",
       "      <td>CR00189532233848061953_screenshot.png</td>\n",
       "      <td>ac285eefadca1531c92638cc4e3662f3e20c06ee8638e7...</td>\n",
       "      <td>73866</td>\n",
       "    </tr>\n",
       "    <tr>\n",
       "      <th>1</th>\n",
       "      <td>/data/1/wesmediafowler/projects/AdMedia/Google...</td>\n",
       "      <td>CR00189532233848061953_hqimg_0.png</td>\n",
       "      <td>5e7c33fc965c222ab5ad92a4b26e9be7938f271faa96bc...</td>\n",
       "      <td>39850</td>\n",
       "    </tr>\n",
       "    <tr>\n",
       "      <th>2</th>\n",
       "      <td>/data/1/wesmediafowler/projects/AdMedia/Google...</td>\n",
       "      <td>CR00189532233848061953_hqimg_1.png</td>\n",
       "      <td>cdf8972333e05c9b0cc42f6a83d1153ef1aab75742f473...</td>\n",
       "      <td>13129</td>\n",
       "    </tr>\n",
       "    <tr>\n",
       "      <th>3</th>\n",
       "      <td>/data/1/wesmediafowler/projects/AdMedia/Google...</td>\n",
       "      <td>CR00047879951818424321_screenshot.png</td>\n",
       "      <td>78c1c9a513e4ac14c356b570c3d6f6741bd6a5c042dec0...</td>\n",
       "      <td>68964</td>\n",
       "    </tr>\n",
       "  </tbody>\n",
       "</table>\n",
       "</div>"
      ],
      "text/plain": [
       "                                            filepath  \\\n",
       "0  /data/1/wesmediafowler/projects/AdMedia/Google...   \n",
       "1  /data/1/wesmediafowler/projects/AdMedia/Google...   \n",
       "2  /data/1/wesmediafowler/projects/AdMedia/Google...   \n",
       "3  /data/1/wesmediafowler/projects/AdMedia/Google...   \n",
       "\n",
       "                                filename  \\\n",
       "0  CR00189532233848061953_screenshot.png   \n",
       "1     CR00189532233848061953_hqimg_0.png   \n",
       "2     CR00189532233848061953_hqimg_1.png   \n",
       "3  CR00047879951818424321_screenshot.png   \n",
       "\n",
       "                                            checksum  filesize  \n",
       "0  ac285eefadca1531c92638cc4e3662f3e20c06ee8638e7...     73866  \n",
       "1  5e7c33fc965c222ab5ad92a4b26e9be7938f271faa96bc...     39850  \n",
       "2  cdf8972333e05c9b0cc42f6a83d1153ef1aab75742f473...     13129  \n",
       "3  78c1c9a513e4ac14c356b570c3d6f6741bd6a5c042dec0...     68964  "
      ]
     },
     "execution_count": 51,
     "metadata": {},
     "output_type": "execute_result"
    }
   ],
   "source": [
    "# Preview table\n",
    "image_info_table.head(4)"
   ]
  },
  {
   "cell_type": "code",
   "execution_count": null,
   "id": "e68e2cf8",
   "metadata": {},
   "outputs": [],
   "source": [
    "# Save table\n",
    "outfile = 'outfile.csv' # google2022_image_info.csv for Google 2022 image ad data\n",
    "image_info_table.to_csv(f'../output/{outfile}', index=False)"
   ]
  },
  {
   "cell_type": "code",
   "execution_count": null,
   "id": "b4b57a22",
   "metadata": {},
   "outputs": [],
   "source": []
  }
 ],
 "metadata": {
  "kernelspec": {
   "display_name": "Python 3 (ipykernel)",
   "language": "python",
   "name": "python3"
  },
  "language_info": {
   "codemirror_mode": {
    "name": "ipython",
    "version": 3
   },
   "file_extension": ".py",
   "mimetype": "text/x-python",
   "name": "python",
   "nbconvert_exporter": "python",
   "pygments_lexer": "ipython3",
   "version": "3.11.4"
  }
 },
 "nbformat": 4,
 "nbformat_minor": 5
}
